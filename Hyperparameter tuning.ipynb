{
  "nbformat": 4,
  "nbformat_minor": 0,
  "metadata": {
    "colab": {
      "name": "Untitled37.ipynb",
      "provenance": []
    },
    "kernelspec": {
      "name": "python3",
      "display_name": "Python 3"
    },
    "language_info": {
      "name": "python"
    }
  },
  "cells": [
    {
      "cell_type": "code",
      "metadata": {
        "id": "XCLs6iz45Oxi"
      },
      "source": [
        "import tensorflow as  tf\n",
        "from tensorflow import keras"
      ],
      "execution_count": 1,
      "outputs": []
    },
    {
      "cell_type": "code",
      "metadata": {
        "colab": {
          "base_uri": "https://localhost:8080/"
        },
        "id": "tclYm7zX42yQ",
        "outputId": "2153c890-6c18-4681-abbe-f021821f01bc"
      },
      "source": [
        "!pip install -q -U keras-tuner"
      ],
      "execution_count": 2,
      "outputs": [
        {
          "output_type": "stream",
          "name": "stdout",
          "text": [
            "\u001b[?25l\r\u001b[K     |███▍                            | 10 kB 15.0 MB/s eta 0:00:01\r\u001b[K     |██████▊                         | 20 kB 17.6 MB/s eta 0:00:01\r\u001b[K     |██████████                      | 30 kB 21.1 MB/s eta 0:00:01\r\u001b[K     |█████████████▍                  | 40 kB 23.7 MB/s eta 0:00:01\r\u001b[K     |████████████████▊               | 51 kB 26.2 MB/s eta 0:00:01\r\u001b[K     |████████████████████            | 61 kB 28.8 MB/s eta 0:00:01\r\u001b[K     |███████████████████████▍        | 71 kB 30.4 MB/s eta 0:00:01\r\u001b[K     |██████████████████████████▊     | 81 kB 31.3 MB/s eta 0:00:01\r\u001b[K     |██████████████████████████████  | 92 kB 33.2 MB/s eta 0:00:01\r\u001b[K     |████████████████████████████████| 98 kB 5.8 MB/s \n",
            "\u001b[?25h"
          ]
        }
      ]
    },
    {
      "cell_type": "code",
      "metadata": {
        "id": "ChkVVmNt5Oth"
      },
      "source": [
        "import keras_tuner as kt"
      ],
      "execution_count": 3,
      "outputs": []
    },
    {
      "cell_type": "code",
      "metadata": {
        "colab": {
          "base_uri": "https://localhost:8080/"
        },
        "id": "glvVzqU85O1A",
        "outputId": "78a8e272-0cac-4c3e-b0d2-50e607e7d94b"
      },
      "source": [
        "(img_train, label_train), (img_test, label_test) = keras.datasets.fashion_mnist.load_data()"
      ],
      "execution_count": 4,
      "outputs": [
        {
          "output_type": "stream",
          "name": "stdout",
          "text": [
            "Downloading data from https://storage.googleapis.com/tensorflow/tf-keras-datasets/train-labels-idx1-ubyte.gz\n",
            "32768/29515 [=================================] - 0s 0us/step\n",
            "40960/29515 [=========================================] - 0s 0us/step\n",
            "Downloading data from https://storage.googleapis.com/tensorflow/tf-keras-datasets/train-images-idx3-ubyte.gz\n",
            "26427392/26421880 [==============================] - 0s 0us/step\n",
            "26435584/26421880 [==============================] - 0s 0us/step\n",
            "Downloading data from https://storage.googleapis.com/tensorflow/tf-keras-datasets/t10k-labels-idx1-ubyte.gz\n",
            "16384/5148 [===============================================================================================] - 0s 0us/step\n",
            "Downloading data from https://storage.googleapis.com/tensorflow/tf-keras-datasets/t10k-images-idx3-ubyte.gz\n",
            "4423680/4422102 [==============================] - 0s 0us/step\n",
            "4431872/4422102 [==============================] - 0s 0us/step\n"
          ]
        }
      ]
    },
    {
      "cell_type": "code",
      "metadata": {
        "id": "-Y_u0AEb6p9e"
      },
      "source": [
        "img_train = img_train.astype('float32') / 255.0\n",
        "img_test = img_test.astype('float32') / 255.0"
      ],
      "execution_count": 5,
      "outputs": []
    },
    {
      "cell_type": "markdown",
      "metadata": {
        "id": "R-NVu53765Rz"
      },
      "source": [
        "Hypertuning: search space\n",
        "no. of nodes in a hidden layer\n",
        "range of values\n",
        "Hypermodel\n",
        "\n",
        "define a hyper model#\n",
        "model builder function\n",
        "subclass the hypermodel class of keras tuner API\n",
        "\n",
        "predefined hyper model classes: HyperXception, HyperResNet"
      ]
    },
    {
      "cell_type": "code",
      "metadata": {
        "id": "2z02d6u86p_w"
      },
      "source": [
        "def model_builder(hp):\n",
        "  model = keras.Sequential()\n",
        "  model.add(keras.layers.Flatten(input_shape=(28, 28)))\n",
        "\n",
        "  #tune the number of units/nodes in the first hidden layer\n",
        "  #choose an optimal value between 32-512\n",
        "  hp_units = hp.Int('units', min_value=32, max_value=512, step=32)\n",
        "  model.add(keras.layers.Dense(units=hp_units, activation='relu'))\n",
        "  model.add(keras.layers.Dense(10))\n",
        "\n",
        "  #tune the learning rate  of the optimizer\n",
        "  #choose an optimal value from 0.01, 0.001, 0.0001\n",
        "  hp_learning_rate = hp.Choice('learning_rate', values=[1e-2, 1e-3, 1e-4])\n",
        "\n",
        "  model.compile(optimizer=keras.optimizers.Adam(learning_rate=hp_learning_rate),\n",
        "                loss=keras.losses.SparseCategoricalCrossentropy(from_logits=True),\n",
        "                metrics=['accuracy'])\n",
        "  return model"
      ],
      "execution_count": 7,
      "outputs": []
    },
    {
      "cell_type": "markdown",
      "metadata": {
        "id": "VZchX7R0_NHZ"
      },
      "source": [
        "instantiate the tuner and perform hypertuning\n",
        "4 tuners: RandomSearch, Hyperband, BayesianOptimization, Sklearn; Hyperband\n",
        "\n",
        "1. Hypermodel: model_builder\n",
        "2. the objective to optimize\n",
        "3. maximum number of epochs to train"
      ]
    },
    {
      "cell_type": "code",
      "metadata": {
        "id": "Ah1fuZL56qFm"
      },
      "source": [
        "tuner = kt.Hyperband(model_builder,\n",
        "                     objective='val_accuracy',\n",
        "                     max_epochs=10,\n",
        "                     factor=3,\n",
        "                     directory='my_dir',\n",
        "                     project_name='intro_to_kt')"
      ],
      "execution_count": 8,
      "outputs": []
    },
    {
      "cell_type": "code",
      "metadata": {
        "id": "-VU-R9t5AFKI"
      },
      "source": [
        "#early stopping, to converge at a high performance\n",
        "#overfitting\n",
        "stop_early = tf.keras.callbacks.EarlyStopping(monitor='val_loss', patience=5)"
      ],
      "execution_count": 9,
      "outputs": []
    },
    {
      "cell_type": "code",
      "metadata": {
        "colab": {
          "base_uri": "https://localhost:8080/"
        },
        "id": "NlPx4tN-AFO_",
        "outputId": "2f6dc16c-18ed-4d38-e1b5-8cc6b0eb60a1"
      },
      "source": [
        "tuner.search(img_train, label_train, epochs=50, validation_split=0.2, callbacks=[stop_early])\n",
        "\n",
        "#get the optimal hyperparameters\n",
        "best_hps = tuner.get_best_hyperparameters(num_trials=1)[0]\n",
        "\n",
        "print(f\"\"\"\n",
        "The hyperparameter search is complete.\n",
        "The optimal number of units in the first layer is {best_hps.get('units')}\n",
        "and the optimal learning rate for the optimizer is {best_hps.get('learning_rate')}.\n",
        "\"\"\")"
      ],
      "execution_count": 10,
      "outputs": [
        {
          "output_type": "stream",
          "name": "stdout",
          "text": [
            "Trial 30 Complete [00h 00m 50s]\n",
            "val_accuracy: 0.8666666746139526\n",
            "\n",
            "Best val_accuracy So Far: 0.8917499780654907\n",
            "Total elapsed time: 00h 15m 08s\n",
            "INFO:tensorflow:Oracle triggered exit\n",
            "\n",
            "The hyperparameter search is complete.\n",
            "The optimal number of units in the first layer is 480\n",
            "and the optimal learning rate for the optimizer is 0.001.\n",
            "\n"
          ]
        }
      ]
    },
    {
      "cell_type": "code",
      "metadata": {
        "colab": {
          "base_uri": "https://localhost:8080/"
        },
        "id": "Aqzlf0jMAFSe",
        "outputId": "b730f799-ecb9-4ee8-9c49-c86a1d22b920"
      },
      "source": [
        "#train the model\n",
        "#find the optimal number of epochs\n",
        "model = tuner.hypermodel.build(best_hps)\n",
        "history = model.fit(img_train, label_train, epochs=50, validation_split=0.2)\n",
        "\n",
        "val_acc_per_epoch = history.history['val_accuracy']\n",
        "best_epoch = val_acc_per_epoch.index(max(val_acc_per_epoch)) + 1\n",
        "print('Best epoch: %d' % (best_epoch,))"
      ],
      "execution_count": 12,
      "outputs": [
        {
          "output_type": "stream",
          "name": "stdout",
          "text": [
            "Epoch 1/50\n",
            "1500/1500 [==============================] - 9s 6ms/step - loss: 0.4942 - accuracy: 0.8246 - val_loss: 0.3924 - val_accuracy: 0.8589\n",
            "Epoch 2/50\n",
            "1500/1500 [==============================] - 7s 5ms/step - loss: 0.3662 - accuracy: 0.8666 - val_loss: 0.3542 - val_accuracy: 0.8721\n",
            "Epoch 3/50\n",
            "1500/1500 [==============================] - 8s 5ms/step - loss: 0.3298 - accuracy: 0.8787 - val_loss: 0.3330 - val_accuracy: 0.8783\n",
            "Epoch 4/50\n",
            "1500/1500 [==============================] - 8s 6ms/step - loss: 0.3067 - accuracy: 0.8850 - val_loss: 0.3233 - val_accuracy: 0.8846\n",
            "Epoch 5/50\n",
            "1500/1500 [==============================] - 8s 5ms/step - loss: 0.2846 - accuracy: 0.8936 - val_loss: 0.3204 - val_accuracy: 0.8857\n",
            "Epoch 6/50\n",
            "1500/1500 [==============================] - 8s 6ms/step - loss: 0.2707 - accuracy: 0.8982 - val_loss: 0.3178 - val_accuracy: 0.8854\n",
            "Epoch 7/50\n",
            "1500/1500 [==============================] - 8s 5ms/step - loss: 0.2554 - accuracy: 0.9046 - val_loss: 0.3566 - val_accuracy: 0.8813\n",
            "Epoch 8/50\n",
            "1500/1500 [==============================] - 8s 5ms/step - loss: 0.2439 - accuracy: 0.9092 - val_loss: 0.3238 - val_accuracy: 0.8874\n",
            "Epoch 9/50\n",
            "1500/1500 [==============================] - 8s 6ms/step - loss: 0.2319 - accuracy: 0.9137 - val_loss: 0.3052 - val_accuracy: 0.8922\n",
            "Epoch 10/50\n",
            "1500/1500 [==============================] - 8s 5ms/step - loss: 0.2227 - accuracy: 0.9173 - val_loss: 0.3339 - val_accuracy: 0.8823\n",
            "Epoch 11/50\n",
            "1500/1500 [==============================] - 8s 5ms/step - loss: 0.2136 - accuracy: 0.9199 - val_loss: 0.3077 - val_accuracy: 0.8915\n",
            "Epoch 12/50\n",
            "1500/1500 [==============================] - 8s 5ms/step - loss: 0.2060 - accuracy: 0.9226 - val_loss: 0.3292 - val_accuracy: 0.8896\n",
            "Epoch 13/50\n",
            "1500/1500 [==============================] - 8s 5ms/step - loss: 0.1997 - accuracy: 0.9249 - val_loss: 0.3289 - val_accuracy: 0.8908\n",
            "Epoch 14/50\n",
            "1500/1500 [==============================] - 8s 6ms/step - loss: 0.1944 - accuracy: 0.9272 - val_loss: 0.3244 - val_accuracy: 0.8928\n",
            "Epoch 15/50\n",
            "1500/1500 [==============================] - 8s 5ms/step - loss: 0.1853 - accuracy: 0.9311 - val_loss: 0.3189 - val_accuracy: 0.8964\n",
            "Epoch 16/50\n",
            "1500/1500 [==============================] - 8s 5ms/step - loss: 0.1785 - accuracy: 0.9325 - val_loss: 0.3242 - val_accuracy: 0.8958\n",
            "Epoch 17/50\n",
            "1500/1500 [==============================] - 8s 5ms/step - loss: 0.1732 - accuracy: 0.9341 - val_loss: 0.3526 - val_accuracy: 0.8942\n",
            "Epoch 18/50\n",
            "1500/1500 [==============================] - 9s 6ms/step - loss: 0.1663 - accuracy: 0.9373 - val_loss: 0.3464 - val_accuracy: 0.8930\n",
            "Epoch 19/50\n",
            "1500/1500 [==============================] - 8s 5ms/step - loss: 0.1622 - accuracy: 0.9394 - val_loss: 0.3546 - val_accuracy: 0.8922\n",
            "Epoch 20/50\n",
            "1500/1500 [==============================] - 8s 5ms/step - loss: 0.1566 - accuracy: 0.9411 - val_loss: 0.3651 - val_accuracy: 0.8882\n",
            "Epoch 21/50\n",
            "1500/1500 [==============================] - 8s 6ms/step - loss: 0.1557 - accuracy: 0.9416 - val_loss: 0.3446 - val_accuracy: 0.8987\n",
            "Epoch 22/50\n",
            "1500/1500 [==============================] - 8s 5ms/step - loss: 0.1455 - accuracy: 0.9455 - val_loss: 0.3689 - val_accuracy: 0.8931\n",
            "Epoch 23/50\n",
            "1500/1500 [==============================] - 8s 5ms/step - loss: 0.1446 - accuracy: 0.9462 - val_loss: 0.3623 - val_accuracy: 0.8917\n",
            "Epoch 24/50\n",
            "1500/1500 [==============================] - 8s 5ms/step - loss: 0.1383 - accuracy: 0.9486 - val_loss: 0.3676 - val_accuracy: 0.8953\n",
            "Epoch 25/50\n",
            "1500/1500 [==============================] - 8s 5ms/step - loss: 0.1362 - accuracy: 0.9491 - val_loss: 0.3765 - val_accuracy: 0.8950\n",
            "Epoch 26/50\n",
            "1500/1500 [==============================] - 8s 5ms/step - loss: 0.1314 - accuracy: 0.9505 - val_loss: 0.3976 - val_accuracy: 0.8923\n",
            "Epoch 27/50\n",
            "1500/1500 [==============================] - 8s 5ms/step - loss: 0.1279 - accuracy: 0.9513 - val_loss: 0.3857 - val_accuracy: 0.8925\n",
            "Epoch 28/50\n",
            "1500/1500 [==============================] - 8s 6ms/step - loss: 0.1271 - accuracy: 0.9514 - val_loss: 0.4455 - val_accuracy: 0.8839\n",
            "Epoch 29/50\n",
            "1500/1500 [==============================] - 8s 6ms/step - loss: 0.1210 - accuracy: 0.9543 - val_loss: 0.3895 - val_accuracy: 0.8975\n",
            "Epoch 30/50\n",
            "1500/1500 [==============================] - 8s 5ms/step - loss: 0.1183 - accuracy: 0.9562 - val_loss: 0.4192 - val_accuracy: 0.8928\n",
            "Epoch 31/50\n",
            "1500/1500 [==============================] - 8s 5ms/step - loss: 0.1161 - accuracy: 0.9560 - val_loss: 0.4288 - val_accuracy: 0.8902\n",
            "Epoch 32/50\n",
            "1500/1500 [==============================] - 8s 5ms/step - loss: 0.1134 - accuracy: 0.9569 - val_loss: 0.4367 - val_accuracy: 0.8874\n",
            "Epoch 33/50\n",
            "1500/1500 [==============================] - 8s 5ms/step - loss: 0.1101 - accuracy: 0.9590 - val_loss: 0.3993 - val_accuracy: 0.8947\n",
            "Epoch 34/50\n",
            "1500/1500 [==============================] - 8s 5ms/step - loss: 0.1104 - accuracy: 0.9584 - val_loss: 0.4607 - val_accuracy: 0.8917\n",
            "Epoch 35/50\n",
            "1500/1500 [==============================] - 8s 5ms/step - loss: 0.1034 - accuracy: 0.9606 - val_loss: 0.4091 - val_accuracy: 0.8949\n",
            "Epoch 36/50\n",
            "1500/1500 [==============================] - 8s 5ms/step - loss: 0.1005 - accuracy: 0.9630 - val_loss: 0.4791 - val_accuracy: 0.8904\n",
            "Epoch 37/50\n",
            "1500/1500 [==============================] - 8s 5ms/step - loss: 0.0983 - accuracy: 0.9627 - val_loss: 0.4387 - val_accuracy: 0.8941\n",
            "Epoch 38/50\n",
            "1500/1500 [==============================] - 8s 5ms/step - loss: 0.0964 - accuracy: 0.9642 - val_loss: 0.4764 - val_accuracy: 0.8934\n",
            "Epoch 39/50\n",
            "1500/1500 [==============================] - 8s 5ms/step - loss: 0.0963 - accuracy: 0.9641 - val_loss: 0.4623 - val_accuracy: 0.8944\n",
            "Epoch 40/50\n",
            "1500/1500 [==============================] - 9s 6ms/step - loss: 0.0925 - accuracy: 0.9658 - val_loss: 0.4572 - val_accuracy: 0.8932\n",
            "Epoch 41/50\n",
            "1500/1500 [==============================] - 9s 6ms/step - loss: 0.0902 - accuracy: 0.9661 - val_loss: 0.4765 - val_accuracy: 0.8919\n",
            "Epoch 42/50\n",
            "1500/1500 [==============================] - 9s 6ms/step - loss: 0.0897 - accuracy: 0.9661 - val_loss: 0.4640 - val_accuracy: 0.8908\n",
            "Epoch 43/50\n",
            "1500/1500 [==============================] - 9s 6ms/step - loss: 0.0877 - accuracy: 0.9674 - val_loss: 0.5031 - val_accuracy: 0.8893\n",
            "Epoch 44/50\n",
            "1500/1500 [==============================] - 9s 6ms/step - loss: 0.0847 - accuracy: 0.9678 - val_loss: 0.4778 - val_accuracy: 0.8943\n",
            "Epoch 45/50\n",
            "1500/1500 [==============================] - 8s 5ms/step - loss: 0.0837 - accuracy: 0.9685 - val_loss: 0.5069 - val_accuracy: 0.8921\n",
            "Epoch 46/50\n",
            "1500/1500 [==============================] - 9s 6ms/step - loss: 0.0835 - accuracy: 0.9687 - val_loss: 0.5218 - val_accuracy: 0.8965\n",
            "Epoch 47/50\n",
            "1500/1500 [==============================] - 8s 6ms/step - loss: 0.0785 - accuracy: 0.9701 - val_loss: 0.5061 - val_accuracy: 0.8925\n",
            "Epoch 48/50\n",
            "1500/1500 [==============================] - 8s 6ms/step - loss: 0.0777 - accuracy: 0.9712 - val_loss: 0.5324 - val_accuracy: 0.8917\n",
            "Epoch 49/50\n",
            "1500/1500 [==============================] - 8s 6ms/step - loss: 0.0776 - accuracy: 0.9711 - val_loss: 0.5369 - val_accuracy: 0.8945\n",
            "Epoch 50/50\n",
            "1500/1500 [==============================] - 8s 6ms/step - loss: 0.0752 - accuracy: 0.9721 - val_loss: 0.5129 - val_accuracy: 0.8927\n",
            "Best epoch: 21\n"
          ]
        }
      ]
    },
    {
      "cell_type": "code",
      "metadata": {
        "colab": {
          "base_uri": "https://localhost:8080/"
        },
        "id": "gRtPbl7GF9_3",
        "outputId": "e793c83e-ac3c-48ab-fdfb-6c886c70a903"
      },
      "source": [
        "hypermodel = tuner.hypermodel.build(best_hps)\n",
        "\n",
        "hypermodel.fit(img_train, label_train, epochs=best_epoch, validation_split=0.2)"
      ],
      "execution_count": 13,
      "outputs": [
        {
          "output_type": "stream",
          "name": "stdout",
          "text": [
            "Epoch 1/21\n",
            "1500/1500 [==============================] - 8s 5ms/step - loss: 0.4943 - accuracy: 0.8266 - val_loss: 0.3960 - val_accuracy: 0.8624\n",
            "Epoch 2/21\n",
            "1500/1500 [==============================] - 8s 5ms/step - loss: 0.3694 - accuracy: 0.8656 - val_loss: 0.3724 - val_accuracy: 0.8644\n",
            "Epoch 3/21\n",
            "1500/1500 [==============================] - 8s 6ms/step - loss: 0.3298 - accuracy: 0.8791 - val_loss: 0.3360 - val_accuracy: 0.8795\n",
            "Epoch 4/21\n",
            "1500/1500 [==============================] - 8s 6ms/step - loss: 0.3079 - accuracy: 0.8878 - val_loss: 0.3218 - val_accuracy: 0.8838\n",
            "Epoch 5/21\n",
            "1500/1500 [==============================] - 8s 6ms/step - loss: 0.2882 - accuracy: 0.8942 - val_loss: 0.3453 - val_accuracy: 0.8778\n",
            "Epoch 6/21\n",
            "1500/1500 [==============================] - 8s 5ms/step - loss: 0.2718 - accuracy: 0.8988 - val_loss: 0.3267 - val_accuracy: 0.8851\n",
            "Epoch 7/21\n",
            "1500/1500 [==============================] - 8s 5ms/step - loss: 0.2570 - accuracy: 0.9044 - val_loss: 0.3275 - val_accuracy: 0.8882\n",
            "Epoch 8/21\n",
            "1500/1500 [==============================] - 8s 6ms/step - loss: 0.2438 - accuracy: 0.9097 - val_loss: 0.3239 - val_accuracy: 0.8849\n",
            "Epoch 9/21\n",
            "1500/1500 [==============================] - 8s 5ms/step - loss: 0.2339 - accuracy: 0.9128 - val_loss: 0.3183 - val_accuracy: 0.8850\n",
            "Epoch 10/21\n",
            "1500/1500 [==============================] - 8s 5ms/step - loss: 0.2252 - accuracy: 0.9147 - val_loss: 0.3321 - val_accuracy: 0.8829\n",
            "Epoch 11/21\n",
            "1500/1500 [==============================] - 8s 5ms/step - loss: 0.2149 - accuracy: 0.9201 - val_loss: 0.3138 - val_accuracy: 0.8896\n",
            "Epoch 12/21\n",
            "1500/1500 [==============================] - 8s 5ms/step - loss: 0.2062 - accuracy: 0.9228 - val_loss: 0.3134 - val_accuracy: 0.8927\n",
            "Epoch 13/21\n",
            "1500/1500 [==============================] - 8s 5ms/step - loss: 0.1971 - accuracy: 0.9258 - val_loss: 0.3249 - val_accuracy: 0.8907\n",
            "Epoch 14/21\n",
            "1500/1500 [==============================] - 8s 5ms/step - loss: 0.1917 - accuracy: 0.9288 - val_loss: 0.3366 - val_accuracy: 0.8923\n",
            "Epoch 15/21\n",
            "1500/1500 [==============================] - 8s 5ms/step - loss: 0.1851 - accuracy: 0.9302 - val_loss: 0.3312 - val_accuracy: 0.8962\n",
            "Epoch 16/21\n",
            "1500/1500 [==============================] - 8s 6ms/step - loss: 0.1774 - accuracy: 0.9336 - val_loss: 0.3401 - val_accuracy: 0.8868\n",
            "Epoch 17/21\n",
            "1500/1500 [==============================] - 8s 5ms/step - loss: 0.1720 - accuracy: 0.9350 - val_loss: 0.3232 - val_accuracy: 0.8945\n",
            "Epoch 18/21\n",
            "1500/1500 [==============================] - 8s 5ms/step - loss: 0.1652 - accuracy: 0.9383 - val_loss: 0.3361 - val_accuracy: 0.8961\n",
            "Epoch 19/21\n",
            "1500/1500 [==============================] - 8s 5ms/step - loss: 0.1623 - accuracy: 0.9388 - val_loss: 0.3178 - val_accuracy: 0.9021\n",
            "Epoch 20/21\n",
            "1500/1500 [==============================] - 8s 6ms/step - loss: 0.1573 - accuracy: 0.9408 - val_loss: 0.3495 - val_accuracy: 0.8938\n",
            "Epoch 21/21\n",
            "1500/1500 [==============================] - 8s 5ms/step - loss: 0.1516 - accuracy: 0.9446 - val_loss: 0.3934 - val_accuracy: 0.8852\n"
          ]
        },
        {
          "output_type": "execute_result",
          "data": {
            "text/plain": [
              "<keras.callbacks.History at 0x7f2f1e61b610>"
            ]
          },
          "metadata": {},
          "execution_count": 13
        }
      ]
    },
    {
      "cell_type": "code",
      "metadata": {
        "colab": {
          "base_uri": "https://localhost:8080/"
        },
        "id": "l4Np9cFIGnD4",
        "outputId": "4528394c-c006-4039-addf-34862dd8997c"
      },
      "source": [
        "eval_result = hypermodel.evaluate(img_test, label_test)\n",
        "print(\"[test loss, test accuracy]:\", eval_result)"
      ],
      "execution_count": 14,
      "outputs": [
        {
          "output_type": "stream",
          "name": "stdout",
          "text": [
            "313/313 [==============================] - 1s 3ms/step - loss: 0.4465 - accuracy: 0.8771\n",
            "[test loss, test accuracy]: [0.44648829102516174, 0.8770999908447266]\n"
          ]
        }
      ]
    }
  ]
}