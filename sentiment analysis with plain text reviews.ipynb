{
  "nbformat": 4,
  "nbformat_minor": 0,
  "metadata": {
    "accelerator": "GPU",
    "colab": {
      "name": "text_classification_rnn.ipynb",
      "provenance": [],
      "collapsed_sections": []
    },
    "kernelspec": {
      "display_name": "Python 3",
      "name": "python3"
    }
  },
  "cells": [
    {
      "cell_type": "markdown",
      "metadata": {
        "id": "9TnJztDZGw-n"
      },
      "source": [
        "# Text classification with an RNN"
      ]
    },
    {
      "cell_type": "markdown",
      "metadata": {
        "id": "_2VQo4bajwUU"
      },
      "source": [
        "## Setup"
      ]
    },
    {
      "cell_type": "code",
      "metadata": {
        "id": "z682XYsrjkY9"
      },
      "source": [
        "import numpy as np\n",
        "\n",
        "import tensorflow_datasets as tfds\n",
        "import tensorflow as tf\n",
        "\n",
        "tfds.disable_progress_bar()"
      ],
      "execution_count": null,
      "outputs": []
    },
    {
      "cell_type": "markdown",
      "metadata": {
        "id": "1rXHa-w9JZhb"
      },
      "source": [
        "Import `matplotlib` and create a helper function to plot graphs:"
      ]
    },
    {
      "cell_type": "code",
      "metadata": {
        "id": "Mp1Z7P9pYRSK"
      },
      "source": [
        "import matplotlib.pyplot as plt\n",
        "\n",
        "\n",
        "def plot_graphs(history, metric):\n",
        "  plt.plot(history.history[metric])\n",
        "  plt.plot(history.history['val_'+metric], '')\n",
        "  plt.xlabel(\"Epochs\")\n",
        "  plt.ylabel(metric)\n",
        "  plt.legend([metric, 'val_'+metric])"
      ],
      "execution_count": null,
      "outputs": []
    },
    {
      "cell_type": "markdown",
      "metadata": {
        "id": "pRmMubr0jrE2"
      },
      "source": [
        "## Setup input pipeline\n",
        "\n",
        "\n",
        "The IMDB large movie review dataset is a *binary classification* dataset—all the reviews have either a *positive* or *negative* sentiment.\n",
        "\n",
        "Download the dataset using [TFDS](https://www.tensorflow.org/datasets). See the [loading text tutorial](https://www.tensorflow.org/tutorials/load_data/text) for details on how to load this sort of data manually.\n"
      ]
    },
    {
      "cell_type": "code",
      "metadata": {
        "id": "SHRwRoP2nVHX",
        "colab": {
          "base_uri": "https://localhost:8080/"
        },
        "outputId": "eceba4b4-9aea-4bbe-b050-4a3ed23f8e29"
      },
      "source": [
        "dataset, info = tfds.load('imdb_reviews', with_info=True,\n",
        "                          as_supervised=True)\n"
      ],
      "execution_count": null,
      "outputs": [
        {
          "output_type": "stream",
          "name": "stdout",
          "text": [
            "\u001b[1mDownloading and preparing dataset imdb_reviews/plain_text/1.0.0 (download: 80.23 MiB, generated: Unknown size, total: 80.23 MiB) to /root/tensorflow_datasets/imdb_reviews/plain_text/1.0.0...\u001b[0m\n",
            "Shuffling and writing examples to /root/tensorflow_datasets/imdb_reviews/plain_text/1.0.0.incomplete6G8WYU/imdb_reviews-train.tfrecord\n",
            "Shuffling and writing examples to /root/tensorflow_datasets/imdb_reviews/plain_text/1.0.0.incomplete6G8WYU/imdb_reviews-test.tfrecord\n",
            "Shuffling and writing examples to /root/tensorflow_datasets/imdb_reviews/plain_text/1.0.0.incomplete6G8WYU/imdb_reviews-unsupervised.tfrecord\n"
          ]
        },
        {
          "output_type": "stream",
          "name": "stderr",
          "text": [
            "WARNING:absl:Dataset is using deprecated text encoder API which will be removed soon. Please use the plain_text version of the dataset and migrate to `tensorflow_text`.\n"
          ]
        },
        {
          "output_type": "stream",
          "name": "stdout",
          "text": [
            "\u001b[1mDataset imdb_reviews downloaded and prepared to /root/tensorflow_datasets/imdb_reviews/plain_text/1.0.0. Subsequent calls will reuse this data.\u001b[0m\n"
          ]
        }
      ]
    },
    {
      "cell_type": "markdown",
      "metadata": {
        "id": "AXob7TmOaf7X"
      },
      "source": [
        "Some common arguments:\n",
        "\n",
        "split=: Which split to read (e.g. 'train', ['train', 'test'], 'train[80%:]',...). See our split API guide.\n",
        "\n",
        "shuffle_files=: Control whether to shuffle the files between each epoch (TFDS store big datasets in multiple smaller files).\n",
        "\n",
        "data_dir=: Location where the dataset is saved ( defaults to ~/tensorflow_datasets/)\n",
        "\n",
        "with_info=True: Returns the tfds.core.DatasetInfo containing dataset metadata\n",
        "\n",
        "download=False: Disable download"
      ]
    },
    {
      "cell_type": "markdown",
      "metadata": {
        "id": "nWA4c2ir7g6p"
      },
      "source": [
        "Initially this returns a dataset of (text, label pairs):"
      ]
    },
    {
      "cell_type": "code",
      "metadata": {
        "id": "vd4_BGKyurao",
        "colab": {
          "base_uri": "https://localhost:8080/"
        },
        "outputId": "95d88e2c-652b-4982-f208-b4caeed09bd8"
      },
      "source": [
        "for example, label in train_dataset.take(1):\n",
        "  print('text: ', example.numpy())\n",
        "  print('label: ', label.numpy())"
      ],
      "execution_count": null,
      "outputs": [
        {
          "output_type": "stream",
          "text": [
            "text:  b\"This was an absolutely terrible movie. Don't be lured in by Christopher Walken or Michael Ironside. Both are great actors, but this must simply be their worst role in history. Even their great acting could not redeem this movie's ridiculous storyline. This movie is an early nineties US propaganda piece. The most pathetic scenes were those when the Columbian rebels were making their cases for revolutions. Maria Conchita Alonso appeared phony, and her pseudo-love affair with Walken was nothing but a pathetic emotional plug in a movie that was devoid of any real meaning. I am disappointed that there are movies like this, ruining actor's like Christopher Walken's good name. I could barely sit through it.\"\n",
            "label:  0\n"
          ],
          "name": "stdout"
        }
      ]
    },
    {
      "cell_type": "markdown",
      "metadata": {
        "id": "z2qVJzcEluH_"
      },
      "source": [
        "Next shuffle the data for training and create batches of these `(text, label)` pairs:"
      ]
    },
    {
      "cell_type": "code",
      "metadata": {
        "id": "dDsCaZCDYZgm"
      },
      "source": [
        "BUFFER_SIZE = 10000\n",
        "BATCH_SIZE = 64"
      ],
      "execution_count": null,
      "outputs": []
    },
    {
      "cell_type": "markdown",
      "metadata": {
        "id": "MX2vyBYQ_1uJ"
      },
      "source": [
        "buffer_size: A tf.int64 scalar tf.Tensor, representing the maximum number elements that will be buffered when prefetching.\n",
        "\n",
        "Shuffling begins by making a buffer of size BUFFER_SIZE (which starts empty but has enough room to store that many elements). \n",
        "\n",
        "The buffer is then filled until it has no more capacity with elements from the dataset, then an element is chosen uniformly at random.\n",
        "\n",
        "This means that each example in the buffer is equally likely to be chosen, with probability 1/BUFFER_SIZE. \n",
        "\n",
        "Then, a new example is loaded to fill the slot in the buffer that was emptied. This continues until there is nothing left to load."
      ]
    },
    {
      "cell_type": "code",
      "metadata": {
        "id": "VznrltNOnUc5"
      },
      "source": [
        "train_dataset = train_dataset.shuffle(BUFFER_SIZE).batch(BATCH_SIZE).prefetch(tf.data.AUTOTUNE)\n",
        "test_dataset = test_dataset.batch(BATCH_SIZE).prefetch(tf.data.AUTOTUNE)"
      ],
      "execution_count": null,
      "outputs": []
    },
    {
      "cell_type": "markdown",
      "metadata": {
        "id": "2ZU7-UsUerW-"
      },
      "source": [
        "The tf.data API provides the tf.data.Dataset.prefetch transformation. It can be used to decouple the time when data is produced from the time when data is consumed. \n",
        "\n",
        "In particular, the transformation uses a background thread and an internal buffer to prefetch elements from the input dataset ahead of the time they are requested. \n",
        "\n",
        "The number of elements to prefetch should be equal to (or possibly greater than) the number of batches consumed by a single training step. You could either manually tune this value, or set it to tf.data.AUTOTUNE, which will prompt the tf.data runtime to tune the value dynamically at runtime.\n",
        "\n",
        "\n",
        "while the training step is running for sample 0, the input pipeline is reading the data for the sample 1, and so on."
      ]
    },
    {
      "cell_type": "code",
      "metadata": {
        "id": "jqkvdcFv41wC",
        "colab": {
          "base_uri": "https://localhost:8080/"
        },
        "outputId": "a1c1c859-2a1f-4943-c5d5-643da9374971"
      },
      "source": [
        "for example, label in train_dataset.take(1):\n",
        "  print('texts: ', example.numpy()[:3])\n",
        "  print()\n",
        "  print('labels: ', label.numpy()[:3])"
      ],
      "execution_count": null,
      "outputs": [
        {
          "output_type": "stream",
          "text": [
            "texts:  [b\"I watched part one two days ago and today I saw part two. Of course the two parts are worlds apart so I am a little shaken by all that I just saw. I felt consumed by the knowledge of the inevitability of Che's death; for me, it clouded the entire movie. I suppose that is exactly what Soderbergh wanted us to feel, the slowly evolving inevitability of his death. Part Two was so downbeat compared to, again an inevitability but in Cuba it was positive and in Bolivia it was so negative. The politics of the movement in Bolivia were only alluded to but rarely confronted didactically. For me the memorable scenes were all at the end of the film: the confrontation with the jailer and the milder talk with the Bolivian official where that official questions Che about the failure of the peasants to support his revolution. I had not considered the national differences playing as much role as they did in the conflict, Argentine versus Bolivian. I thought Soderbergh dealt admirably with the inevitable problems of supply in a revolutionary struggle; how do you get food without antagonizing the peasants who do not have enough themselves. I was struck by how hard it would be to try something as Che tried. I guess it is all in the timing; is there sufficient anger against the government to begin the movement; in Bolivia there wasn't. Che realized the terrible corundum of revolutionists in his letter to Fidel read at the beginning of the film: If not now, when, 50 years from now. A very thought provoking and well done film; make every effort to see it.\"\n",
            " b'\"Radiofreccia\" is still a good surprise in Italian cinema. The film is based on a book of Italian songwriter Luciano Ligabue, who also directs the movie and writes the music score -of course.<br /><br />The film is a portrait of north Italian province life, in the Emilia Romagna region. We\\'re in 1975, the time of the first free radios -one of the boys of the movie creates \"Radioraptus\". Youth wishes, friendship, love, sex, individual dramas and unemployment are among the themes, but the film speaks also about drugs -Freccia, the main character, is a victim of heroin slavery.<br /><br />Without being boring and moralist, the story flows very well; the spontaneity of actors is strong and the way of directing as well. Obviously Luciano \"Liga\" Ligabue is neither Fellini nor a movie professional, first of all he\\'s a musician. But he succeeds in making a good product. Unfortunately he\\'ll not repeat the success with his second movie \"Da zero a dieci\" -not good at all.<br /><br />In \"Radiofreccia\" actors are generally not very famous, the only star is Stefano Accorsi -one of the most popular young Italian actors. See in a small role another Italian songwriter -Francesco Guccini, he\\'s the nice communist barman and football trainer!'\n",
            " b'This was allocated to the fans as the \"winner takes all\" match occurred between two separate \"companies\" (the World Wrestling Federation and the \"Alliance\": an amalgamation of former WCW and ECW superstars. Because the final match to duduce the superior company was a tag-team match, the wrestlers were confined to tossing opponents from each side of the ring to another; each wrestler concludes that in order to debiliate their opponents and to intensify the match, interfernce is necessary. Each wrestler merely pummels an opponent with punches, executes a special move, and tags in a partner. The storyline had previously been tarnished by the subterfuge of Vince that a member of the Allance would be fradulent and join the WWF. It was obvious, with that statement, that the WWF would prevail. Overall: very innovative storyline but poor execution, which is not the scarcity of the wrestlers because the match format is tag-team. The remaining matches are just revolting:<br /><br />Edge versus Test: potent \"big boot\" by Test, but this did not display the true talents of both stars<br /><br />Al Snow Versus Christian: good match but superflous to the pay-per-view<br /><br />Taji versus William Regal: the worst match of the night<br /><br />Immunity Battle Royal: This was an outstandingly fun match to watch, but because the main stars of both companies were involved in the main event, only a wrestler who characteristically appears on \"Heat\" and is probably a WCW light-heavyweight reject (i.e. the Hurricane who is merely hired as an entertainer)<br /><br />Hardy Boyz Versus Dudley Boyz: The best match of the night: Jeff Hardy executed a \"Swanton Bomb\" from the summit of a cage and through a wooden table and Matt was wedged into the cage, which appeared to be extremely painful.<br /><br />Because Stone Cold was the WWF champion, Rob Van Dam was the Hardcore Champion, and Kurt Angle was a \"mole\" in the alliance, all fundamental stars in the main event on the faction of \"the Alliance\" were granted work after the match\\'s outcome, except for Booker T., who recently attacked a wrestler on \"Raw\" and will inevitably be given work. Shane McMahon will return to television somehow, and everyone desired to witness the downfall and demise of \"the Alliance\" to see Stone Cold out of work. The WWF has done much better. A match in which all tiltes were brought to one faction would have been better, and what ever became of Casket and Iron Man matches?']\n",
            "\n",
            "labels:  [1 1 0]\n"
          ],
          "name": "stdout"
        }
      ]
    },
    {
      "cell_type": "markdown",
      "metadata": {
        "id": "s5eWCo88voPY"
      },
      "source": [
        "## Create the text encoder"
      ]
    },
    {
      "cell_type": "markdown",
      "metadata": {
        "id": "TFevcItw15P_"
      },
      "source": [
        "The raw text loaded by `tfds` needs to be processed before it can be used in a model. The simplest way to process text for training is using the `experimental.preprocessing.TextVectorization` layer. This layer has many capabilities, but this tutorial sticks to the default behavior.\n",
        "\n",
        "Create the layer, and pass the dataset's text to the layer's `.adapt` method:"
      ]
    },
    {
      "cell_type": "markdown",
      "metadata": {
        "id": "213r9qlokQyx"
      },
      "source": [
        "This layer has basic options for managing text in a Keras model. It transforms a batch of strings (one sample = one string) into either a list of token indices (one sample = 1D tensor of integer token indices) or a dense representation (one sample = 1D tensor of float values representing data about the sample's tokens).\n",
        "\n",
        "If desired, the user can call this layer's adapt() method on a dataset. When this layer is adapted, it will analyze the dataset, determine the frequency of individual string values, and create a 'vocabulary' from them. This vocabulary can have unlimited size or be capped, depending on the configuration options for this layer; if there are more unique values in the input than the maximum vocabulary size, the most frequent terms will be used to create the vocabulary.\n",
        "\n",
        "The processing of each sample contains the following steps:\n",
        "\n",
        "standardize each sample (usually lowercasing + punctuation stripping)\n",
        "\n",
        "split each sample into substrings (usually words)\n",
        "\n",
        "recombine substrings into tokens (usually ngrams)\n",
        "\n",
        "index tokens (associate a unique int value with each token)\n",
        "\n",
        "transform each sample using this index, either into a vector of ints or a dense float vector."
      ]
    },
    {
      "cell_type": "code",
      "metadata": {
        "id": "uC25Lu1Yvuqy"
      },
      "source": [
        "VOCAB_SIZE = 1000\n",
        "encoder = tf.keras.layers.experimental.preprocessing.TextVectorization(\n",
        "    max_tokens=VOCAB_SIZE)\n",
        "encoder.adapt(train_dataset.map(lambda text, label: text))"
      ],
      "execution_count": null,
      "outputs": []
    },
    {
      "cell_type": "markdown",
      "metadata": {
        "id": "61c9FGigkh8i"
      },
      "source": [
        "max_tokens = The maximum size of the vocabulary for this layer. If None, there is no cap on the size of the vocabulary"
      ]
    },
    {
      "cell_type": "markdown",
      "metadata": {
        "id": "IuQzVBbe3Ldu"
      },
      "source": [
        "The `.adapt` method sets the layer's vocabulary. Here are the first 20 tokens. After the padding and unknown tokens they're sorted by frequency: "
      ]
    },
    {
      "cell_type": "code",
      "metadata": {
        "id": "tBoyjjWg0Ac9",
        "colab": {
          "base_uri": "https://localhost:8080/"
        },
        "outputId": "7bf37565-8ddb-4001-ab0d-6c2fb6522a37"
      },
      "source": [
        "vocab = np.array(encoder.get_vocabulary())\n",
        "vocab[:20]"
      ],
      "execution_count": null,
      "outputs": [
        {
          "output_type": "execute_result",
          "data": {
            "text/plain": [
              "array(['', '[UNK]', 'the', 'and', 'a', 'of', 'to', 'is', 'in', 'it', 'i',\n",
              "       'this', 'that', 'br', 'was', 'as', 'for', 'with', 'movie', 'but'],\n",
              "      dtype='<U14')"
            ]
          },
          "metadata": {
            "tags": []
          },
          "execution_count": 32
        }
      ]
    },
    {
      "cell_type": "markdown",
      "metadata": {
        "id": "mjId5pua3jHQ"
      },
      "source": [
        "Once the vocabulary is set, the layer can encode text into indices. The tensors of indices are 0-padded to the longest sequence in the batch (unless you set a fixed `output_sequence_length`):"
      ]
    },
    {
      "cell_type": "code",
      "metadata": {
        "id": "RGc7C9WiwRWs",
        "colab": {
          "base_uri": "https://localhost:8080/"
        },
        "outputId": "d1d2c530-a9e9-4be6-b9f2-32b25e0e10cb"
      },
      "source": [
        "encoded_example = encoder(example)[:3].numpy()\n",
        "encoded_example"
      ],
      "execution_count": null,
      "outputs": [
        {
          "output_type": "execute_result",
          "data": {
            "text/plain": [
              "array([[ 10, 284, 171, ...,   0,   0,   0],\n",
              "       [  1,   7, 124, ...,   0,   0,   0],\n",
              "       [ 11,  14,   1, ...,   0,   0,   0]])"
            ]
          },
          "metadata": {
            "tags": []
          },
          "execution_count": 33
        }
      ]
    },
    {
      "cell_type": "markdown",
      "metadata": {
        "id": "F5cjz0bS39IN"
      },
      "source": [
        "With the default settings, the process is not completely reversible. There are three main reasons for that:\n",
        "\n",
        "1. The default value for `preprocessing.TextVectorization`'s `standardize` argument is `\"lower_and_strip_punctuation\"`.\n",
        "2. The limited vocabulary size and lack of character-based fallback results in some unknown tokens.\n",
        "\n",
        "'lower_and_strip_punctuation' (lowercase and remove punctuation) .Default is 'lower_and_strip_punctuation'."
      ]
    },
    {
      "cell_type": "code",
      "metadata": {
        "id": "N_tD0QY5wXaK",
        "colab": {
          "base_uri": "https://localhost:8080/"
        },
        "outputId": "95b8b59c-5333-49ea-a13a-3f4553f46c2b"
      },
      "source": [
        "for n in range(3):\n",
        "  print(\"Original: \", example[n].numpy())\n",
        "  print(\"Round-trip: \", \" \".join(vocab[encoded_example[n]]))\n",
        "  print()"
      ],
      "execution_count": null,
      "outputs": [
        {
          "output_type": "stream",
          "text": [
            "Original:  b\"I watched part one two days ago and today I saw part two. Of course the two parts are worlds apart so I am a little shaken by all that I just saw. I felt consumed by the knowledge of the inevitability of Che's death; for me, it clouded the entire movie. I suppose that is exactly what Soderbergh wanted us to feel, the slowly evolving inevitability of his death. Part Two was so downbeat compared to, again an inevitability but in Cuba it was positive and in Bolivia it was so negative. The politics of the movement in Bolivia were only alluded to but rarely confronted didactically. For me the memorable scenes were all at the end of the film: the confrontation with the jailer and the milder talk with the Bolivian official where that official questions Che about the failure of the peasants to support his revolution. I had not considered the national differences playing as much role as they did in the conflict, Argentine versus Bolivian. I thought Soderbergh dealt admirably with the inevitable problems of supply in a revolutionary struggle; how do you get food without antagonizing the peasants who do not have enough themselves. I was struck by how hard it would be to try something as Che tried. I guess it is all in the timing; is there sufficient anger against the government to begin the movement; in Bolivia there wasn't. Che realized the terrible corundum of revolutionists in his letter to Fidel read at the beginning of the film: If not now, when, 50 years from now. A very thought provoking and well done film; make every effort to see it.\"\n",
            "Round-trip:  i watched part one two days ago and today i saw part two of course the two parts are [UNK] apart so i am a little [UNK] by all that i just saw i felt [UNK] by the [UNK] of the [UNK] of [UNK] death for me it [UNK] the entire movie i [UNK] that is exactly what [UNK] wanted us to feel the [UNK] [UNK] [UNK] of his death part two was so [UNK] [UNK] to again an [UNK] but in [UNK] it was [UNK] and in [UNK] it was so [UNK] the [UNK] of the [UNK] in [UNK] were only [UNK] to but [UNK] [UNK] [UNK] for me the memorable scenes were all at the end of the film the [UNK] with the [UNK] and the [UNK] talk with the [UNK] [UNK] where that [UNK] [UNK] [UNK] about the [UNK] of the [UNK] to [UNK] his [UNK] i had not [UNK] the [UNK] [UNK] playing as much role as they did in the [UNK] [UNK] [UNK] [UNK] i thought [UNK] [UNK] [UNK] with the [UNK] problems of [UNK] in a [UNK] [UNK] how do you get [UNK] without [UNK] the [UNK] who do not have enough themselves i was [UNK] by how hard it would be to try something as [UNK] tried i guess it is all in the [UNK] is there [UNK] [UNK] against the [UNK] to begin the [UNK] in [UNK] there wasnt [UNK] [UNK] the terrible [UNK] of [UNK] in his [UNK] to [UNK] read at the beginning of the film if not now when [UNK] years from now a very thought [UNK] and well done film make every effort to see it                                                                                                                                                                                                                                                                                                                                                                                                                                                                                                                                                                                                                                                                                                                                             \n",
            "\n",
            "Original:  b'\"Radiofreccia\" is still a good surprise in Italian cinema. The film is based on a book of Italian songwriter Luciano Ligabue, who also directs the movie and writes the music score -of course.<br /><br />The film is a portrait of north Italian province life, in the Emilia Romagna region. We\\'re in 1975, the time of the first free radios -one of the boys of the movie creates \"Radioraptus\". Youth wishes, friendship, love, sex, individual dramas and unemployment are among the themes, but the film speaks also about drugs -Freccia, the main character, is a victim of heroin slavery.<br /><br />Without being boring and moralist, the story flows very well; the spontaneity of actors is strong and the way of directing as well. Obviously Luciano \"Liga\" Ligabue is neither Fellini nor a movie professional, first of all he\\'s a musician. But he succeeds in making a good product. Unfortunately he\\'ll not repeat the success with his second movie \"Da zero a dieci\" -not good at all.<br /><br />In \"Radiofreccia\" actors are generally not very famous, the only star is Stefano Accorsi -one of the most popular young Italian actors. See in a small role another Italian songwriter -Francesco Guccini, he\\'s the nice communist barman and football trainer!'\n",
            "Round-trip:  [UNK] is still a good surprise in [UNK] cinema the film is based on a book of [UNK] [UNK] [UNK] [UNK] who also [UNK] the movie and [UNK] the music score of [UNK] br the film is a [UNK] of [UNK] [UNK] [UNK] life in the [UNK] [UNK] [UNK] were in [UNK] the time of the first free [UNK] one of the boys of the movie [UNK] [UNK] [UNK] [UNK] [UNK] love sex [UNK] [UNK] and [UNK] are among the [UNK] but the film [UNK] also about [UNK] [UNK] the main character is a [UNK] of [UNK] [UNK] br without being boring and [UNK] the story [UNK] very well the [UNK] of actors is strong and the way of directing as well obviously [UNK] [UNK] [UNK] is [UNK] [UNK] nor a movie [UNK] first of all hes a [UNK] but he [UNK] in making a good [UNK] unfortunately hell not [UNK] the [UNK] with his second movie [UNK] [UNK] a [UNK] not good at [UNK] br in [UNK] actors are [UNK] not very famous the only star is [UNK] [UNK] one of the most [UNK] young [UNK] actors see in a small role another [UNK] [UNK] [UNK] [UNK] hes the nice [UNK] [UNK] and [UNK] [UNK]                                                                                                                                                                                                                                                                                                                                                                                                                                                                                                                                                                                                                                                                                                                                                                                                                     \n",
            "\n",
            "Original:  b'This was allocated to the fans as the \"winner takes all\" match occurred between two separate \"companies\" (the World Wrestling Federation and the \"Alliance\": an amalgamation of former WCW and ECW superstars. Because the final match to duduce the superior company was a tag-team match, the wrestlers were confined to tossing opponents from each side of the ring to another; each wrestler concludes that in order to debiliate their opponents and to intensify the match, interfernce is necessary. Each wrestler merely pummels an opponent with punches, executes a special move, and tags in a partner. The storyline had previously been tarnished by the subterfuge of Vince that a member of the Allance would be fradulent and join the WWF. It was obvious, with that statement, that the WWF would prevail. Overall: very innovative storyline but poor execution, which is not the scarcity of the wrestlers because the match format is tag-team. The remaining matches are just revolting:<br /><br />Edge versus Test: potent \"big boot\" by Test, but this did not display the true talents of both stars<br /><br />Al Snow Versus Christian: good match but superflous to the pay-per-view<br /><br />Taji versus William Regal: the worst match of the night<br /><br />Immunity Battle Royal: This was an outstandingly fun match to watch, but because the main stars of both companies were involved in the main event, only a wrestler who characteristically appears on \"Heat\" and is probably a WCW light-heavyweight reject (i.e. the Hurricane who is merely hired as an entertainer)<br /><br />Hardy Boyz Versus Dudley Boyz: The best match of the night: Jeff Hardy executed a \"Swanton Bomb\" from the summit of a cage and through a wooden table and Matt was wedged into the cage, which appeared to be extremely painful.<br /><br />Because Stone Cold was the WWF champion, Rob Van Dam was the Hardcore Champion, and Kurt Angle was a \"mole\" in the alliance, all fundamental stars in the main event on the faction of \"the Alliance\" were granted work after the match\\'s outcome, except for Booker T., who recently attacked a wrestler on \"Raw\" and will inevitably be given work. Shane McMahon will return to television somehow, and everyone desired to witness the downfall and demise of \"the Alliance\" to see Stone Cold out of work. The WWF has done much better. A match in which all tiltes were brought to one faction would have been better, and what ever became of Casket and Iron Man matches?'\n",
            "Round-trip:  this was [UNK] to the fans as the [UNK] takes all [UNK] [UNK] between two [UNK] [UNK] the world [UNK] [UNK] and the [UNK] an [UNK] of [UNK] [UNK] and [UNK] [UNK] because the final [UNK] to [UNK] the [UNK] [UNK] was a [UNK] [UNK] the [UNK] were [UNK] to [UNK] [UNK] from each side of the [UNK] to another each [UNK] [UNK] that in order to [UNK] their [UNK] and to [UNK] the [UNK] [UNK] is [UNK] each [UNK] [UNK] [UNK] an [UNK] with [UNK] [UNK] a special move and [UNK] in a [UNK] the storyline had [UNK] been [UNK] by the [UNK] of [UNK] that a [UNK] of the [UNK] would be [UNK] and [UNK] the [UNK] it was obvious with that [UNK] that the [UNK] would [UNK] overall very [UNK] storyline but poor [UNK] which is not the [UNK] of the [UNK] because the [UNK] [UNK] is [UNK] the [UNK] [UNK] are just [UNK] br [UNK] [UNK] [UNK] [UNK] big [UNK] by [UNK] but this did not [UNK] the true [UNK] of both [UNK] br [UNK] [UNK] [UNK] [UNK] good [UNK] but [UNK] to the [UNK] br [UNK] [UNK] [UNK] [UNK] the worst [UNK] of the [UNK] br [UNK] battle [UNK] this was an [UNK] fun [UNK] to watch but because the main stars of both [UNK] were involved in the main [UNK] only a [UNK] who [UNK] appears on [UNK] and is probably a [UNK] [UNK] [UNK] [UNK] the [UNK] who is [UNK] [UNK] as an [UNK] br [UNK] [UNK] [UNK] [UNK] [UNK] the best [UNK] of the night [UNK] [UNK] [UNK] a [UNK] [UNK] from the [UNK] of a [UNK] and through a [UNK] [UNK] and [UNK] was [UNK] into the [UNK] which [UNK] to be extremely [UNK] br because [UNK] [UNK] was the [UNK] [UNK] [UNK] [UNK] [UNK] was the [UNK] [UNK] and [UNK] [UNK] was a [UNK] in the [UNK] all [UNK] stars in the main [UNK] on the [UNK] of the [UNK] were [UNK] work after the [UNK] [UNK] except for [UNK] [UNK] who [UNK] [UNK] a [UNK] on [UNK] and will [UNK] be given work [UNK] [UNK] will return to television somehow and everyone [UNK] to [UNK] the [UNK] and [UNK] of the [UNK] to see [UNK] [UNK] out of work the [UNK] has done much better a [UNK] in which all [UNK] were brought to one [UNK] would have been better and what ever became of [UNK] and [UNK] man [UNK]                                                                                                                                                                                                                                                                                                                                                                                                                                                                                                                                                                                                        \n",
            "\n"
          ],
          "name": "stdout"
        }
      ]
    },
    {
      "cell_type": "markdown",
      "metadata": {
        "id": "bjUqGVBxGw-t"
      },
      "source": [
        "## Create the model"
      ]
    },
    {
      "cell_type": "markdown",
      "metadata": {
        "id": "W7zsmInBOCPO"
      },
      "source": [
        "![A drawing of the information flow in the model](https://github.com/tensorflow/text/blob/master/docs/tutorials/images/bidirectional.png?raw=1)"
      ]
    },
    {
      "cell_type": "markdown",
      "metadata": {
        "id": "bgs6nnSTGw-t"
      },
      "source": [
        "Above is a diagram of the model. \n",
        "\n",
        "1. This model can be build as a `tf.keras.Sequential`.\n",
        "\n",
        "2. The first layer is the `encoder`, which converts the text to a sequence of token indices.\n",
        "\n",
        "3. After the encoder is an embedding layer. An embedding layer stores one vector per word. When called, it converts the sequences of word indices to sequences of vectors. These vectors are trainable. After training (on enough data), words with similar meanings often have similar vectors.\n",
        "\n",
        "  This index-lookup is much more efficient than the equivalent operation of passing a one-hot encoded vector through a `tf.keras.layers.Dense` layer.\n",
        "\n",
        "4. A recurrent neural network (RNN) processes sequence input by iterating through the elements. RNNs pass the outputs from one timestep to their input on the next timestep.\n",
        "\n",
        "  The `tf.keras.layers.Bidirectional` wrapper can also be used with an RNN layer. This propagates the input forward and backwards through the RNN layer and then concatenates the final output. \n",
        "\n",
        "  * The main advantage of a bidirectional RNN is that the signal from the beginning of the input doesn't need to be processed all the way through every timestep to affect the output.  \n",
        "\n",
        "  * The main disadvantage of a bidirectional RNN is that you can't efficiently stream predictions as words are being added to the end.\n",
        "\n",
        "5. After the RNN has converted the sequence to a single vector the two `layers.Dense` do some final processing, and convert from this vector representation to a single logit as the classification output. \n"
      ]
    },
    {
      "cell_type": "markdown",
      "metadata": {
        "id": "V4fodCI7soQi"
      },
      "source": [
        "The code to implement this is below:"
      ]
    },
    {
      "cell_type": "code",
      "metadata": {
        "id": "LwfoBkmRYcP3"
      },
      "source": [
        "model = tf.keras.Sequential([\n",
        "    encoder,\n",
        "    tf.keras.layers.Embedding(\n",
        "        input_dim=len(encoder.get_vocabulary()),\n",
        "        output_dim=64,\n",
        "        # Use masking to handle the variable sequence lengths\n",
        "        mask_zero=True),\n",
        "    tf.keras.layers.Bidirectional(tf.keras.layers.LSTM(64)),\n",
        "    tf.keras.layers.Dense(64, activation='relu'),\n",
        "    tf.keras.layers.Dense(1)\n",
        "])"
      ],
      "execution_count": null,
      "outputs": []
    },
    {
      "cell_type": "markdown",
      "metadata": {
        "id": "QIGmIGkkouUb"
      },
      "source": [
        "Please note that Keras sequential model is used here since all the layers in the model only have single input and produce single output. In case you want to use stateful RNN layer, you might want to build your model with Keras functional API or model subclassing so that you can retrieve and reuse the RNN layer states. Please check [Keras RNN guide](https://www.tensorflow.org/guide/keras/rnn#rnn_state_reuse) for more details."
      ]
    },
    {
      "cell_type": "markdown",
      "metadata": {
        "id": "kF-PsCk1LwjY"
      },
      "source": [
        "The embedding layer [uses masking](https://www.tensorflow.org/guide/keras/masking_and_padding) to handle the varying sequence-lengths. All the layers after the `Embedding` support masking:"
      ]
    },
    {
      "cell_type": "markdown",
      "metadata": {
        "id": "CMxJYihZnaab"
      },
      "source": [
        "Masking is a way to tell sequence-processing layers that certain timesteps in an input are missing, and thus should be skipped when processing the data.\n",
        "\n",
        "Padding is a special form of masking where the masked steps are at the start or the end of a sequence. Padding comes from the need to encode sequence data into contiguous batches: in order to make all sequences in a batch fit a given standard length, it is necessary to pad or truncate some sequences."
      ]
    },
    {
      "cell_type": "code",
      "metadata": {
        "id": "87a8-CwfKebw",
        "colab": {
          "base_uri": "https://localhost:8080/"
        },
        "outputId": "71ac7a96-f579-420a-aeb2-f136029770b6"
      },
      "source": [
        "print([layer.supports_masking for layer in model.layers])"
      ],
      "execution_count": null,
      "outputs": [
        {
          "output_type": "stream",
          "text": [
            "[False, True, True, True, True]\n"
          ],
          "name": "stdout"
        }
      ]
    },
    {
      "cell_type": "markdown",
      "metadata": {
        "id": "ZlS0iaUIWLpI"
      },
      "source": [
        "To confirm that this works as expected, evaluate a sentence twice. First, alone so there's no padding to mask:"
      ]
    },
    {
      "cell_type": "code",
      "metadata": {
        "id": "O41gw3KfWHus",
        "colab": {
          "base_uri": "https://localhost:8080/"
        },
        "outputId": "a0af0f1e-afcf-48ab-f82a-ebbb6b8c4e1e"
      },
      "source": [
        "# predict on a sample text without padding.\n",
        "\n",
        "sample_text = ('The movie was cool. The animation and the graphics '\n",
        "               'were out of this world. I would recommend this movie.')\n",
        "predictions = model.predict(np.array([sample_text]))\n",
        "print(predictions[0])"
      ],
      "execution_count": null,
      "outputs": [
        {
          "output_type": "stream",
          "text": [
            "[0.01419534]\n"
          ],
          "name": "stdout"
        }
      ]
    },
    {
      "cell_type": "markdown",
      "metadata": {
        "id": "K0VQmGnEWcuz"
      },
      "source": [
        "Now, evaluate it again in a batch with a longer sentence. The result should be identical:"
      ]
    },
    {
      "cell_type": "code",
      "metadata": {
        "id": "UIgpuTeFNDzq",
        "colab": {
          "base_uri": "https://localhost:8080/"
        },
        "outputId": "bec28289-03de-4279-f8c2-26cb417d8173"
      },
      "source": [
        "# predict on a sample text with padding\n",
        "\n",
        "padding = \"the \" * 2000\n",
        "predictions = model.predict(np.array([sample_text, padding]))\n",
        "print(predictions[0])"
      ],
      "execution_count": null,
      "outputs": [
        {
          "output_type": "stream",
          "text": [
            "[0.01419534]\n"
          ],
          "name": "stdout"
        }
      ]
    },
    {
      "cell_type": "markdown",
      "metadata": {
        "id": "sRI776ZcH3Tf"
      },
      "source": [
        "Compile the Keras model to configure the training process:"
      ]
    },
    {
      "cell_type": "code",
      "metadata": {
        "id": "kj2xei41YZjC"
      },
      "source": [
        "model.compile(loss=tf.keras.losses.BinaryCrossentropy(from_logits=True),\n",
        "              optimizer=tf.keras.optimizers.Adam(1e-4),\n",
        "              metrics=['accuracy'])"
      ],
      "execution_count": null,
      "outputs": []
    },
    {
      "cell_type": "markdown",
      "metadata": {
        "id": "zIwH3nto596k"
      },
      "source": [
        "## Train the model"
      ]
    },
    {
      "cell_type": "code",
      "metadata": {
        "id": "hw86wWS4YgR2",
        "colab": {
          "base_uri": "https://localhost:8080/"
        },
        "outputId": "b8d1045a-fa1c-41b9-8d7e-91e05897feda"
      },
      "source": [
        "history = model.fit(train_dataset, epochs=10,\n",
        "                    validation_data=test_dataset,\n",
        "                    validation_steps=30)"
      ],
      "execution_count": null,
      "outputs": [
        {
          "output_type": "stream",
          "text": [
            "Epoch 1/10\n",
            "391/391 [==============================] - 107s 251ms/step - loss: 0.6292 - accuracy: 0.5946 - val_loss: 0.4845 - val_accuracy: 0.7406\n",
            "Epoch 2/10\n",
            "391/391 [==============================] - 95s 242ms/step - loss: 0.3953 - accuracy: 0.8212 - val_loss: 0.3588 - val_accuracy: 0.8297\n",
            "Epoch 3/10\n",
            "391/391 [==============================] - 96s 243ms/step - loss: 0.3381 - accuracy: 0.8518 - val_loss: 0.3374 - val_accuracy: 0.8536\n",
            "Epoch 4/10\n",
            "391/391 [==============================] - 94s 238ms/step - loss: 0.3228 - accuracy: 0.8590 - val_loss: 0.3279 - val_accuracy: 0.8547\n",
            "Epoch 5/10\n",
            "391/391 [==============================] - 94s 238ms/step - loss: 0.3150 - accuracy: 0.8638 - val_loss: 0.3338 - val_accuracy: 0.8417\n",
            "Epoch 6/10\n",
            "391/391 [==============================] - 94s 239ms/step - loss: 0.3106 - accuracy: 0.8662 - val_loss: 0.3261 - val_accuracy: 0.8578\n",
            "Epoch 7/10\n",
            "391/391 [==============================] - 98s 248ms/step - loss: 0.3078 - accuracy: 0.8672 - val_loss: 0.3332 - val_accuracy: 0.8464\n",
            "Epoch 8/10\n",
            "391/391 [==============================] - 95s 239ms/step - loss: 0.3050 - accuracy: 0.8679 - val_loss: 0.3251 - val_accuracy: 0.8521\n",
            "Epoch 9/10\n",
            "391/391 [==============================] - 95s 242ms/step - loss: 0.3034 - accuracy: 0.8704 - val_loss: 0.3460 - val_accuracy: 0.8552\n",
            "Epoch 10/10\n",
            "391/391 [==============================] - 97s 247ms/step - loss: 0.3016 - accuracy: 0.8695 - val_loss: 0.3210 - val_accuracy: 0.8609\n"
          ],
          "name": "stdout"
        }
      ]
    },
    {
      "cell_type": "code",
      "metadata": {
        "id": "BaNbXi43YgUT",
        "colab": {
          "base_uri": "https://localhost:8080/"
        },
        "outputId": "216e3290-190f-4c62-aef7-ee7d9bd56c9a"
      },
      "source": [
        "test_loss, test_acc = model.evaluate(test_dataset)\n",
        "\n",
        "print('Test Loss:', test_loss)\n",
        "print('Test Accuracy:', test_acc)"
      ],
      "execution_count": null,
      "outputs": [
        {
          "output_type": "stream",
          "text": [
            "391/391 [==============================] - 48s 123ms/step - loss: 0.3161 - accuracy: 0.8617\n",
            "Test Loss: 0.3161281943321228\n",
            "Test Accuracy: 0.8616799712181091\n"
          ],
          "name": "stdout"
        }
      ]
    },
    {
      "cell_type": "code",
      "metadata": {
        "id": "OZmwt_mzaQJk",
        "colab": {
          "base_uri": "https://localhost:8080/",
          "height": 518
        },
        "outputId": "ac6e2bfb-e70d-4799-807b-81ff1eaf1733"
      },
      "source": [
        "plt.figure(figsize=(16, 8))\n",
        "plt.subplot(1, 2, 1)\n",
        "plot_graphs(history, 'accuracy')\n",
        "plt.ylim(None, 1)\n",
        "plt.subplot(1, 2, 2)\n",
        "plot_graphs(history, 'loss')\n",
        "plt.ylim(0, None)"
      ],
      "execution_count": null,
      "outputs": [
        {
          "output_type": "execute_result",
          "data": {
            "text/plain": [
              "(0.0, 0.6455439627170563)"
            ]
          },
          "metadata": {
            "tags": []
          },
          "execution_count": 42
        },
        {
          "output_type": "display_data",
          "data": {
            "image/png": "[encoded data removed]",
            "text/plain": [
              "<Figure size 1152x576 with 2 Axes>"
            ]
          },
          "metadata": {
            "tags": [],
            "needs_background": "light"
          }
        }
      ]
    },
    {
      "cell_type": "markdown",
      "metadata": {
        "id": "DwSE_386uhxD"
      },
      "source": [
        "Run a prediction on a new sentence:\n",
        "\n",
        "If the prediction is >= 0.0, it is positive else it is negative."
      ]
    },
    {
      "cell_type": "code",
      "metadata": {
        "id": "ZXgfQSgRW6zU"
      },
      "source": [
        "sample_text = ('The movie was cool. The animation and the graphics '\n",
        "               'were out of this world. I would recommend this movie.')\n",
        "predictions = model.predict(np.array([sample_text]))"
      ],
      "execution_count": null,
      "outputs": []
    },
    {
      "cell_type": "markdown",
      "metadata": {
        "id": "7g1evcaRpTKm"
      },
      "source": [
        "## Stack two or more LSTM layers\n",
        "\n",
        "Keras recurrent layers have two available modes that are controlled by the `return_sequences` constructor argument:\n",
        "\n",
        "* If `False` it returns only the last output for each input sequence (a 2D tensor of shape (batch_size, output_features)). This is the default, used in the previous model.\n",
        "\n",
        "* If `True` the full sequences of successive outputs for each timestep is returned (a 3D tensor of shape `(batch_size, timesteps, output_features)`).\n",
        "\n",
        "Here is what the flow of information looks like with `return_sequences=True`:\n",
        "\n",
        "![layered_bidirectional](https://github.com/tensorflow/text/blob/master/docs/tutorials/images/layered_bidirectional.png?raw=1)"
      ]
    },
    {
      "cell_type": "markdown",
      "metadata": {
        "id": "wbSClCrG1z8l"
      },
      "source": [
        "The interesting thing about using an `RNN` with `return_sequences=True` is that the output still has 3-axes, like the input, so it can be passed to another RNN layer, like this:"
      ]
    },
    {
      "cell_type": "code",
      "metadata": {
        "id": "jo1jjO3vn0jo"
      },
      "source": [
        "model = tf.keras.Sequential([\n",
        "    encoder,\n",
        "    tf.keras.layers.Embedding(len(encoder.get_vocabulary()), 64, mask_zero=True),\n",
        "    tf.keras.layers.Bidirectional(tf.keras.layers.LSTM(64,  return_sequences=True)),\n",
        "    tf.keras.layers.Bidirectional(tf.keras.layers.LSTM(32)),\n",
        "    tf.keras.layers.Dense(64, activation='relu'),\n",
        "    tf.keras.layers.Dropout(0.5),\n",
        "    tf.keras.layers.Dense(1)\n",
        "])"
      ],
      "execution_count": null,
      "outputs": []
    },
    {
      "cell_type": "code",
      "metadata": {
        "id": "hEPV5jVGp-is"
      },
      "source": [
        "model.compile(loss=tf.keras.losses.BinaryCrossentropy(from_logits=True),\n",
        "              optimizer=tf.keras.optimizers.Adam(1e-4),\n",
        "              metrics=['accuracy'])"
      ],
      "execution_count": null,
      "outputs": []
    },
    {
      "cell_type": "code",
      "metadata": {
        "id": "LeSE-YjdqAeN",
        "colab": {
          "base_uri": "https://localhost:8080/"
        },
        "outputId": "174801c7-a4e3-443c-da5e-f942aca49639"
      },
      "source": [
        "history = model.fit(train_dataset, epochs=10,\n",
        "                    validation_data=test_dataset,\n",
        "                    validation_steps=30)"
      ],
      "execution_count": null,
      "outputs": [
        {
          "output_type": "stream",
          "text": [
            "Epoch 1/10\n",
            "391/391 [==============================] - 202s 465ms/step - loss: 0.6002 - accuracy: 0.6116 - val_loss: 0.4007 - val_accuracy: 0.8156\n",
            "Epoch 2/10\n",
            "391/391 [==============================] - 176s 447ms/step - loss: 0.3712 - accuracy: 0.8376 - val_loss: 0.3478 - val_accuracy: 0.8510\n",
            "Epoch 3/10\n",
            "391/391 [==============================] - 169s 431ms/step - loss: 0.3302 - accuracy: 0.8571 - val_loss: 0.3373 - val_accuracy: 0.8516\n",
            "Epoch 4/10\n",
            "391/391 [==============================] - 169s 432ms/step - loss: 0.3206 - accuracy: 0.8632 - val_loss: 0.3256 - val_accuracy: 0.8547\n",
            "Epoch 5/10\n",
            "391/391 [==============================] - 171s 435ms/step - loss: 0.3079 - accuracy: 0.8658 - val_loss: 0.3244 - val_accuracy: 0.8568\n",
            "Epoch 6/10\n",
            "391/391 [==============================] - 170s 432ms/step - loss: 0.3042 - accuracy: 0.8690 - val_loss: 0.3317 - val_accuracy: 0.8599\n",
            "Epoch 7/10\n",
            "391/391 [==============================] - 172s 437ms/step - loss: 0.3003 - accuracy: 0.8708 - val_loss: 0.3520 - val_accuracy: 0.8583\n",
            "Epoch 8/10\n",
            "391/391 [==============================] - 177s 450ms/step - loss: 0.2970 - accuracy: 0.8738 - val_loss: 0.3263 - val_accuracy: 0.8495\n",
            "Epoch 9/10\n",
            "391/391 [==============================] - 170s 432ms/step - loss: 0.2955 - accuracy: 0.8735 - val_loss: 0.3223 - val_accuracy: 0.8490\n",
            "Epoch 10/10\n",
            "391/391 [==============================] - 172s 437ms/step - loss: 0.2928 - accuracy: 0.8736 - val_loss: 0.3367 - val_accuracy: 0.8594\n"
          ],
          "name": "stdout"
        }
      ]
    },
    {
      "cell_type": "code",
      "metadata": {
        "id": "_LdwilM1qPM3",
        "colab": {
          "base_uri": "https://localhost:8080/"
        },
        "outputId": "8e4b1821-882c-40e2-ea5d-4bccab6926d5"
      },
      "source": [
        "test_loss, test_acc = model.evaluate(test_dataset)\n",
        "\n",
        "print('Test Loss:', test_loss)\n",
        "print('Test Accuracy:', test_acc)"
      ],
      "execution_count": null,
      "outputs": [
        {
          "output_type": "stream",
          "text": [
            " 44/391 [==>...........................] - ETA: 1:12 - loss: 0.3333 - accuracy: 0.8626"
          ],
          "name": "stdout"
        }
      ]
    },
    {
      "cell_type": "code",
      "metadata": {
        "id": "ykUKnAoqbycW"
      },
      "source": [
        "# predict on a sample text without padding.\n",
        "\n",
        "sample_text = ('The movie was not good. The animation and the graphics '\n",
        "               'were terrible. I would not recommend this movie.')\n",
        "predictions = model.predict(np.array([sample_text]))\n",
        "print(predictions)"
      ],
      "execution_count": null,
      "outputs": []
    },
    {
      "cell_type": "code",
      "metadata": {
        "id": "_YYub0EDtwCu"
      },
      "source": [
        "plt.figure(figsize=(16, 6))\n",
        "plt.subplot(1, 2, 1)\n",
        "plot_graphs(history, 'accuracy')\n",
        "plt.subplot(1, 2, 2)\n",
        "plot_graphs(history, 'loss')"
      ],
      "execution_count": null,
      "outputs": []
    }
  ]
}